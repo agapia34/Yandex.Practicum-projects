{
 "cells": [
  {
   "cell_type": "markdown",
   "metadata": {},
   "source": [
    "# Определение перспективного тарифа для телеком компании"
   ]
  },
  {
   "cell_type": "markdown",
   "metadata": {},
   "source": [
    "<b>Описание проекта</b>\n",
    "<bR>Вы аналитик компании «Мегалайн» — федерального оператора сотовой связи. Клиентам предлагают два тарифных плана: «Смарт» и «Ультра». Чтобы скорректировать рекламный бюджет, коммерческий департамент хочет понять, какой тариф приносит больше денег.</bR>\n",
    "<bR></bR>\n",
    "<bR>Вам предстоит сделать предварительный анализ тарифов на небольшой выборке клиентов. В вашем распоряжении данные 500 пользователей «Мегалайна»: кто они, откуда, каким тарифом пользуются, сколько звонков и сообщений каждый отправил за 2018 год. \n",
    "    \n",
    "Цель исследования – проанализировать поведение клиентов и сделать вывод, какой тариф лучше."
   ]
  },
  {
   "cell_type": "markdown",
   "metadata": {},
   "source": [
    "<b>Шаг 1. Откройте файл с данными и изучите общую информацию</b>"
   ]
  },
  {
   "cell_type": "markdown",
   "metadata": {},
   "source": [
    "- <b>Информация о звонках"
   ]
  },
  {
   "cell_type": "code",
   "execution_count": null,
   "metadata": {},
   "outputs": [],
   "source": [
    "import pandas as pd\n",
    "calls = pd.read_csv('/datasets/calls.csv')\n",
    "calls"
   ]
  },
  {
   "cell_type": "code",
   "execution_count": null,
   "metadata": {},
   "outputs": [],
   "source": [
    "calls.info()"
   ]
  },
  {
   "cell_type": "code",
   "execution_count": null,
   "metadata": {},
   "outputs": [],
   "source": [
    "calls.describe()"
   ]
  },
  {
   "cell_type": "markdown",
   "metadata": {},
   "source": [
    "Датафрейм содержит 202,6 тысяч строк и 4 столбца. Столбец duration содержит данные не целочисленного типа. Столбец call_date нужно перевести в формат даты. Пропусков нет."
   ]
  },
  {
   "cell_type": "markdown",
   "metadata": {},
   "source": [
    "- <b>Информация об интернет-сессиях"
   ]
  },
  {
   "cell_type": "code",
   "execution_count": null,
   "metadata": {},
   "outputs": [],
   "source": [
    "internet = pd.read_csv('/datasets/internet.csv')\n",
    "internet"
   ]
  },
  {
   "cell_type": "code",
   "execution_count": null,
   "metadata": {},
   "outputs": [],
   "source": [
    "internet.info()"
   ]
  },
  {
   "cell_type": "code",
   "execution_count": null,
   "metadata": {},
   "outputs": [],
   "source": [
    "internet.describe()"
   ]
  },
  {
   "cell_type": "markdown",
   "metadata": {},
   "source": [
    "Датафрейм содержит 143.4 тысяч строк и 5 столбца. Столбец 'Unnamed: 0' полностью дублирует нумерацию, его можно удалить. Столбец mb_used содержит данные не целочисленного типа. Столбец session_date нужно перевести в формат даты. Пропусков нет."
   ]
  },
  {
   "cell_type": "markdown",
   "metadata": {},
   "source": [
    "- <b>Информация о сообщениях"
   ]
  },
  {
   "cell_type": "code",
   "execution_count": null,
   "metadata": {},
   "outputs": [],
   "source": [
    "messages = pd.read_csv('/datasets/messages.csv')\n",
    "messages"
   ]
  },
  {
   "cell_type": "code",
   "execution_count": null,
   "metadata": {},
   "outputs": [],
   "source": [
    "messages.info()"
   ]
  },
  {
   "cell_type": "code",
   "execution_count": null,
   "metadata": {},
   "outputs": [],
   "source": [
    "messages.describe()"
   ]
  },
  {
   "cell_type": "markdown",
   "metadata": {},
   "source": [
    "Датафрейм содержит 123 тысяч строк и 3 столбца. Столбец message_date нужно перевести в формат даты. Пропусков нет.\n"
   ]
  },
  {
   "cell_type": "markdown",
   "metadata": {},
   "source": [
    "- <b>Информация о тарифах"
   ]
  },
  {
   "cell_type": "code",
   "execution_count": null,
   "metadata": {},
   "outputs": [],
   "source": [
    "tariffs = pd.read_csv('/datasets/tariffs.csv')\n",
    "tariffs"
   ]
  },
  {
   "cell_type": "code",
   "execution_count": null,
   "metadata": {},
   "outputs": [],
   "source": [
    "tariffs.info()"
   ]
  },
  {
   "cell_type": "code",
   "execution_count": null,
   "metadata": {},
   "outputs": [],
   "source": [
    "tariffs.describe()"
   ]
  },
  {
   "cell_type": "markdown",
   "metadata": {},
   "source": [
    "Датафрейм содержит информацию из 2 тарифов. Пропусков нет, все данные в нужном формате."
   ]
  },
  {
   "cell_type": "markdown",
   "metadata": {},
   "source": [
    "- <b>Информация о пользователях"
   ]
  },
  {
   "cell_type": "code",
   "execution_count": null,
   "metadata": {},
   "outputs": [],
   "source": [
    "user_info = pd.read_csv('/datasets/users.csv')\n",
    "user_info"
   ]
  },
  {
   "cell_type": "code",
   "execution_count": null,
   "metadata": {},
   "outputs": [],
   "source": [
    "user_info.info()"
   ]
  },
  {
   "cell_type": "code",
   "execution_count": null,
   "metadata": {},
   "outputs": [],
   "source": [
    "user_info.describe()"
   ]
  },
  {
   "cell_type": "markdown",
   "metadata": {},
   "source": [
    "Датафрейм содержит 500 строк и 8 столбцов. Столбецы churn_date и reg_date нужно перевести в формат даты. Пропусков нет.\n"
   ]
  },
  {
   "cell_type": "markdown",
   "metadata": {},
   "source": [
    "<b>Шаг 2. Подготовьте данные"
   ]
  },
  {
   "cell_type": "markdown",
   "metadata": {},
   "source": [
    "- Приведите данные к нужным типам"
   ]
  },
  {
   "cell_type": "code",
   "execution_count": null,
   "metadata": {},
   "outputs": [],
   "source": [
    "#перевод в формат даты\n",
    "from datetime import datetime\n",
    "\n",
    "calls['call_date'] = pd.to_datetime(calls.call_date, format= '%Y/%m/%d')\n",
    "internet['session_date'] = pd.to_datetime(internet.session_date, format= '%Y/%m/%d')\n",
    "messages['message_date'] = pd.to_datetime(messages.message_date, format= '%Y/%m/%d')\n",
    "user_info['churn_date'] = pd.to_datetime(user_info.churn_date, format= '%Y/%m/%d')\n",
    "user_info['reg_date'] = pd.to_datetime(user_info.reg_date, format= '%Y/%m/%d')"
   ]
  },
  {
   "cell_type": "code",
   "execution_count": null,
   "metadata": {},
   "outputs": [],
   "source": [
    "#перевод данных в целочисленный тип\n",
    "calls['duration'] = calls['duration'].astype('int')\n",
    "internet['mb_used'] = internet['mb_used'].astype('int')"
   ]
  },
  {
   "cell_type": "markdown",
   "metadata": {},
   "source": [
    "- Найдите и исправьте ошибки в данных"
   ]
  },
  {
   "cell_type": "code",
   "execution_count": null,
   "metadata": {},
   "outputs": [],
   "source": [
    "#округление минут и мегабайтов вверх \n",
    "import numpy as np\n",
    "\n",
    "calls['duration'] = calls['duration'].apply(np.ceil)\n",
    "internet['mb_used'] = internet['mb_used'].apply(np.ceil)"
   ]
  },
  {
   "cell_type": "code",
   "execution_count": null,
   "metadata": {},
   "outputs": [],
   "source": [
    "calls['duration'].describe().round()"
   ]
  },
  {
   "cell_type": "code",
   "execution_count": null,
   "metadata": {},
   "outputs": [],
   "source": [
    "internet['mb_used'].describe().round()"
   ]
  },
  {
   "cell_type": "code",
   "execution_count": null,
   "metadata": {},
   "outputs": [],
   "source": [
    "#удаление дублирующего столбца в таблице internet\n",
    "del internet['Unnamed: 0']\n",
    "internet"
   ]
  },
  {
   "cell_type": "markdown",
   "metadata": {},
   "source": [
    "<b>Посчитайте для каждого пользователя:"
   ]
  },
  {
   "cell_type": "markdown",
   "metadata": {},
   "source": [
    "- Количество сделанных звонков и израсходованных минут разговора по месяцам"
   ]
  },
  {
   "cell_type": "code",
   "execution_count": null,
   "metadata": {},
   "outputs": [],
   "source": [
    "calls['month'] = calls['call_date'].dt.month_name()\n",
    "calls['month'].value_counts()"
   ]
  },
  {
   "cell_type": "code",
   "execution_count": null,
   "metadata": {},
   "outputs": [],
   "source": [
    "calls_per_months = calls.groupby(['user_id', 'month'])\\\n",
    "                  .agg({'duration':'sum', 'id':'count'})\\\n",
    "                  .reset_index()\\\n",
    "                  .rename(columns={'duration':'talk_time','id':'calls_per_month'})\\\n",
    "\n",
    "calls_per_months"
   ]
  },
  {
   "cell_type": "code",
   "execution_count": null,
   "metadata": {},
   "outputs": [],
   "source": [
    "calls_per_months.describe()"
   ]
  },
  {
   "cell_type": "markdown",
   "metadata": {},
   "source": [
    "В среднем каждый пользователь делает по 63 звонка общей длительностью 396 минут ежемесячно. То есть 1 звонок длится в среднем 6,3 минуты."
   ]
  },
  {
   "cell_type": "markdown",
   "metadata": {},
   "source": [
    "- Количество отправленных сообщений по месяцам"
   ]
  },
  {
   "cell_type": "code",
   "execution_count": null,
   "metadata": {},
   "outputs": [],
   "source": [
    "messages['month'] = messages['message_date'].dt.month_name()\n",
    "messages['month'].value_counts()"
   ]
  },
  {
   "cell_type": "code",
   "execution_count": null,
   "metadata": {},
   "outputs": [],
   "source": [
    "messages_per_months = messages.groupby(['user_id', 'month'])\\\n",
    "                  .agg({'id':'count'})\\\n",
    "                  .reset_index()\\\n",
    "                  .rename(columns={'id':'sms_per_month'})\\\n",
    "\n",
    "messages_per_months"
   ]
  },
  {
   "cell_type": "code",
   "execution_count": null,
   "metadata": {},
   "outputs": [],
   "source": [
    "messages_per_months.describe()"
   ]
  },
  {
   "cell_type": "markdown",
   "metadata": {},
   "source": [
    "Каждый пользователь в среднем отправляет 38 сообщений в месяц."
   ]
  },
  {
   "cell_type": "markdown",
   "metadata": {},
   "source": [
    "- Объем израсходованного интернет-трафика по месяцам"
   ]
  },
  {
   "cell_type": "code",
   "execution_count": null,
   "metadata": {},
   "outputs": [],
   "source": [
    "internet['month'] = internet['session_date'].dt.month_name()\n",
    "internet['month'].value_counts()"
   ]
  },
  {
   "cell_type": "code",
   "execution_count": null,
   "metadata": {},
   "outputs": [],
   "source": [
    "internet_per_months = internet.groupby(['user_id', 'month'])\\\n",
    "                  .agg({'mb_used':'count'})\\\n",
    "                  .reset_index()\\\n",
    "                  .rename(columns={'mb_used':'mb_per_month'})\\\n",
    "\n",
    "internet_per_months"
   ]
  },
  {
   "cell_type": "code",
   "execution_count": null,
   "metadata": {},
   "outputs": [],
   "source": [
    "internet_per_months.describe()"
   ]
  },
  {
   "cell_type": "markdown",
   "metadata": {},
   "source": [
    "В среднем каждый пользователь использует 48 мб трафика ежемесячно."
   ]
  },
  {
   "cell_type": "markdown",
   "metadata": {},
   "source": [
    "- Помесячная выручка с каждого пользователя"
   ]
  },
  {
   "cell_type": "code",
   "execution_count": null,
   "metadata": {},
   "outputs": [],
   "source": [
    "#для подсчета помесячной выручки лучше объединить таблицы\n",
    "data = calls_per_months.merge(messages_per_months, on=['user_id','month'], how='outer')\n",
    "data"
   ]
  },
  {
   "cell_type": "code",
   "execution_count": null,
   "metadata": {},
   "outputs": [],
   "source": [
    "data = data.merge(internet_per_months, on=['user_id','month'], how='outer')\n",
    "data"
   ]
  },
  {
   "cell_type": "code",
   "execution_count": null,
   "metadata": {},
   "outputs": [],
   "source": [
    "data = data.merge(user_info, on='user_id', how='left')\n",
    "data"
   ]
  },
  {
   "cell_type": "code",
   "execution_count": null,
   "metadata": {},
   "outputs": [],
   "source": [
    "data.rename(columns=lambda x: x.replace('tariff', 'tariff_name'), inplace=True)\n",
    "data"
   ]
  },
  {
   "cell_type": "code",
   "execution_count": null,
   "metadata": {},
   "outputs": [],
   "source": [
    "data = data.merge(tariffs, on='tariff_name', how='left')\n",
    "data"
   ]
  },
  {
   "cell_type": "markdown",
   "metadata": {},
   "source": [
    "Задание: вычтите бесплатный лимит из суммарного количества звонков, сообщений и интернет-трафика; остаток умножьте на значение из тарифного плана; прибавьте абонентскую плату, соответствующую тарифному плану"
   ]
  },
  {
   "cell_type": "code",
   "execution_count": null,
   "metadata": {},
   "outputs": [],
   "source": [
    "#Заменяем отсутствующие значения на нули\n",
    "data['talk_time'].fillna(0, inplace=True)\n",
    "data['calls_per_month'].fillna(0, inplace=True)\n",
    "data['sms_per_month'].fillna(0, inplace=True)\n",
    "data['mb_per_month'].fillna(0, inplace=True)\n",
    "\n",
    "data"
   ]
  },
  {
   "cell_type": "code",
   "execution_count": null,
   "metadata": {},
   "outputs": [],
   "source": [
    "#Высчитываем количество минут сверх тарифа \n",
    "data['extra_minutes'] = data['talk_time'] - data['minutes_included']\n",
    "data['extra_messeges'] = data['sms_per_month'] - data['messages_included']\n",
    "data['extra_gb'] = np.floor((data['mb_per_month'] - data['mb_per_month_included']))/1024\n",
    "data"
   ]
  },
  {
   "cell_type": "code",
   "execution_count": null,
   "metadata": {},
   "outputs": [],
   "source": [
    "#убираем отрицательные значения в сверх минутах, смс и гб \n",
    "\n",
    "data.loc[data['extra_minutes'] <0, 'extra_minutes'] = 0\n",
    "data.loc[data['extra_messeges'] <0, 'extra_messeges'] = 0\n",
    "data.loc[data['extra_gb'] <0, 'extra_gb'] = 0\n",
    "data"
   ]
  },
  {
   "cell_type": "code",
   "execution_count": null,
   "metadata": {},
   "outputs": [],
   "source": [
    "data['total_payment'] = data['rub_monthly_fee'] + data['extra_minutes']*data['rub_per_minute'] + data['extra_messeges']*data['rub_per_message'] + data['extra_gb']*data['rub_per_gb']\n",
    "data.sort_values(by='total_payment', ascending=False)"
   ]
  },
  {
   "cell_type": "code",
   "execution_count": null,
   "metadata": {},
   "outputs": [],
   "source": [
    "payment_month = data.pivot_table(index='month', values='total_payment', aggfunc=['sum','count'])\n",
    "\n",
    "payment_month"
   ]
  },
  {
   "cell_type": "code",
   "execution_count": null,
   "metadata": {},
   "outputs": [],
   "source": [
    "data['total_payment'].sum()"
   ]
  },
  {
   "cell_type": "markdown",
   "metadata": {},
   "source": [
    "<b> Вывод"
   ]
  },
  {
   "cell_type": "markdown",
   "metadata": {},
   "source": [
    "Обработаны таблицы с информацией о пользователях, их интернет-трафике, отправленных сообщениях, звонках. Для каждого пользователя были количество сделанных звонков и израсходованных минут разговора, количество отправленных сообщений, расходы на сотовую связь ежемесячно. Все изначальные таблицы были объединены в одну. \n",
    "<bR>Ежемесячно прибыль растет. Общая прибыль за 2018 год составляет 3 331 185 руб. </bR>\n",
    "<bR>В среднем каждый пользователь ежемесячно:\n",
    "    - делает по 63 звонка общей длительностью 396 минут (1 звонок равен в среднем 6,3 минутам).\n",
    "    - отправляет 38 сообщений в месяц.\n",
    "    - использует 48 мб трафика ежемесячно."
   ]
  },
  {
   "cell_type": "markdown",
   "metadata": {},
   "source": [
    "<b>Шаг 3. Проанализируйте данные"
   ]
  },
  {
   "cell_type": "markdown",
   "metadata": {},
   "source": [
    "Опишите поведение клиентов оператора, исходя из выборки. Сколько минут разговора, сколько сообщений и какой объём интернет-трафика требуется пользователям каждого тарифа в месяц? Посчитайте среднее количество, дисперсию и стандартное отклонение. Постройте гистограммы. Опишите распределения."
   ]
  },
  {
   "cell_type": "code",
   "execution_count": null,
   "metadata": {},
   "outputs": [],
   "source": [
    "data['tariff_name'].value_counts()"
   ]
  },
  {
   "cell_type": "code",
   "execution_count": null,
   "metadata": {},
   "outputs": [],
   "source": [
    "data.pivot_table(index='tariff_name',values='total_payment', aggfunc='sum')"
   ]
  },
  {
   "cell_type": "code",
   "execution_count": null,
   "metadata": {},
   "outputs": [],
   "source": [
    "(data\n",
    "    .pivot_table(index='tariff_name',values='total_payment', aggfunc='median')\n",
    "    .plot(kind='bar', grid=True, title='Средняя сумма платежа по тарифому плану')\n",
    ")"
   ]
  },
  {
   "cell_type": "code",
   "execution_count": null,
   "metadata": {},
   "outputs": [],
   "source": [
    "data['add_payment'] = data['extra_minutes']*data['rub_per_minute'] + data['extra_messeges']*data['rub_per_message'] + data['extra_gb']*data['rub_per_gb']\n",
    "data['add_payment'].value_counts()\n"
   ]
  },
  {
   "cell_type": "code",
   "execution_count": null,
   "metadata": {},
   "outputs": [],
   "source": [
    "data.pivot_table(index='tariff_name',values='add_payment', aggfunc='sum')"
   ]
  },
  {
   "cell_type": "code",
   "execution_count": null,
   "metadata": {},
   "outputs": [],
   "source": [
    "data[data['tariff_name'] == 'smart']['total_payment'].plot(kind='hist', title='Платежи по тарифу смарт')"
   ]
  },
  {
   "cell_type": "code",
   "execution_count": null,
   "metadata": {},
   "outputs": [],
   "source": [
    "data[data['tariff_name'] == 'ultra']['total_payment'].plot(kind='hist', title='Платежи по тарифу ультра')"
   ]
  },
  {
   "cell_type": "code",
   "execution_count": null,
   "metadata": {},
   "outputs": [],
   "source": [
    "import numpy as np\n",
    "\n",
    "data.groupby('tariff_name')\\\n",
    "  .agg({'total_payment':['median','mean','var','std', 'max']})\\\n",
    "  .style.format(\"{:.2f}\")"
   ]
  },
  {
   "cell_type": "markdown",
   "metadata": {},
   "source": [
    "Клиентам, подключенным к тарифу Ультра, всегда хватает предложенного количества смс, звонков и интернета. Клиенты, подключенные к тарифу Смарт, иногда оплачивают смс, звонки и интернет дополнительно."
   ]
  },
  {
   "cell_type": "markdown",
   "metadata": {},
   "source": [
    "- Сколько минут разговора требуется пользователям каждого тарифа в месяц"
   ]
  },
  {
   "cell_type": "code",
   "execution_count": null,
   "metadata": {},
   "outputs": [],
   "source": [
    "data[data['tariff_name'] == 'smart']['talk_time'].plot(kind='hist', title='Количество минут по тарифу Смарт')"
   ]
  },
  {
   "cell_type": "markdown",
   "metadata": {},
   "source": [
    "Данные скошены в отрицательную сторону. Медиана будет больше средней."
   ]
  },
  {
   "cell_type": "code",
   "execution_count": null,
   "metadata": {},
   "outputs": [],
   "source": [
    "data[data['tariff_name'] == 'ultra']['talk_time'].plot(kind='hist', title='Количество минут по тарифу Ультра')"
   ]
  },
  {
   "cell_type": "markdown",
   "metadata": {},
   "source": [
    "Данные скошены в положительную сторону. Медиана будет меньше средней."
   ]
  },
  {
   "cell_type": "code",
   "execution_count": null,
   "metadata": {},
   "outputs": [],
   "source": [
    "data.groupby('tariff_name')\\\n",
    "  .agg({'talk_time':['median','mean','var','std', 'max']})\\\n",
    "  .style.format(\"{:.2f}\")"
   ]
  },
  {
   "cell_type": "markdown",
   "metadata": {},
   "source": [
    "Согласно графику пользователи тарифа Смарт, имея ограничение в 500 минут ежемесячно, иногда выходят за его пределы. Кто-то даже превысил ограничение в 2,5 раза. В среднем клиент с тарифом Смарт разговаривает 375 минут в месяц. <bR>\n",
    "Клиенты, подключенные к тарифу Ультра, имеют ограничение в 3000 минут ежемесячно. Из предложенной выборки ни один клиент не использовал доступный пакет минут в полном объеме. Максимальное значение – 1484 минуты. В среднем клиент тарифа Ультра разговаривает 458 минут в месяц. "
   ]
  },
  {
   "cell_type": "markdown",
   "metadata": {},
   "source": [
    "- Сколько сообщений требуется пользователям каждого тарифа в месяц? "
   ]
  },
  {
   "cell_type": "code",
   "execution_count": null,
   "metadata": {},
   "outputs": [],
   "source": [
    "data[data['tariff_name'] == 'smart']['sms_per_month'].plot(kind='hist', title='Количество смс по тарифу Смарт')"
   ]
  },
  {
   "cell_type": "code",
   "execution_count": null,
   "metadata": {},
   "outputs": [],
   "source": [
    "data[data['tariff_name'] == 'ultra']['sms_per_month'].plot(kind='hist', title='Количество смс по тарифу Ультра')"
   ]
  },
  {
   "cell_type": "code",
   "execution_count": null,
   "metadata": {},
   "outputs": [],
   "source": [
    "data.groupby('tariff_name')\\\n",
    "  .agg({'sms_per_month':['median','mean','var','std', 'max']})\\\n",
    "  .style.format(\"{:.2f}\")"
   ]
  },
  {
   "cell_type": "markdown",
   "metadata": {},
   "source": [
    "Оба графика, отражающих количество смс, скошены в положительную сторону. <bR> Согласно графику пользователи тарифа Смарт, имея ограничение в 50 сообщений ежемесячно, иногда выходят за его пределы. В среднем клиент с тарифом Смарт отправляет 28 сообщений в месяц.</bR>\n",
    "<bR>Клиенты, подключенные к тарифу Ультра, имеют ограничение в 1000 смс ежемесячно. Из предложенной выборки ни один клиент не использовал доступный пакет смс в полном объеме. Максимальное значение – 224 смс. В среднем клиент тарифа Ультра отправляет 38 сообщений в месяц.\n"
   ]
  },
  {
   "cell_type": "markdown",
   "metadata": {},
   "source": [
    "- Какой объём интернет-трафика требуется пользователям каждого тарифа в месяц"
   ]
  },
  {
   "cell_type": "code",
   "execution_count": null,
   "metadata": {},
   "outputs": [],
   "source": [
    "data[data['tariff_name'] == 'smart']['mb_per_month'].plot(kind='hist', title='Интернет-трафик по тарифу Смарт (мб)')"
   ]
  },
  {
   "cell_type": "code",
   "execution_count": null,
   "metadata": {},
   "outputs": [],
   "source": [
    "data[data['tariff_name'] == 'ultra']['mb_per_month'].plot(kind='hist', title='Интернет-трафик по тарифу Ультра (мб)')"
   ]
  },
  {
   "cell_type": "code",
   "execution_count": null,
   "metadata": {},
   "outputs": [],
   "source": [
    "data.groupby('tariff_name')\\\n",
    "  .agg({'mb_per_month':['median','mean','var','std', 'max']})\\\n",
    "  .style.format(\"{:.2f}\")"
   ]
  },
  {
   "cell_type": "markdown",
   "metadata": {},
   "source": [
    "График использования интернета у клиентов тарифа Смарт скошен влево, у клиентов тарифа Ультра – вправо. <bR> Клиенты, подключенные к тарифу Смарт, пользуются интернетом больше, чем клиенты тарифа Ультра. Средний размер интернет-трафика в тарифе Смарт составляет 51 мб в месяц, в тарифе Ультра – 38 мб в месяц. Нет никого, кто бы истратил весь свой ежемесячный интернет-трафик."
   ]
  },
  {
   "cell_type": "markdown",
   "metadata": {},
   "source": [
    "<b>Шаг 4. Проверьте гипотезы"
   ]
  },
  {
   "cell_type": "markdown",
   "metadata": {},
   "source": [
    "Поскольку выборки независимы друг от друга, для проверки гипотез используется тест Стьюдента."
   ]
  },
  {
   "cell_type": "markdown",
   "metadata": {},
   "source": [
    "- Cредняя выручка пользователей тарифов «Ультра» и «Смарт» различается"
   ]
  },
  {
   "cell_type": "markdown",
   "metadata": {},
   "source": [
    "H0 - Cредняя выручка пользователей тарифов «Ультра» и «Смарт» не различается <bR>\n",
    "H1 – Cредняя выручка пользователей тарифов «Ультра» и «Смарт» различается"
   ]
  },
  {
   "cell_type": "code",
   "execution_count": null,
   "metadata": {},
   "outputs": [],
   "source": [
    "ultra_profit = data[data['tariff_name'] == 'ultra']\n",
    "smart_profit = data[data['tariff_name'] == 'smart']"
   ]
  },
  {
   "cell_type": "code",
   "execution_count": null,
   "metadata": {},
   "outputs": [],
   "source": [
    "from scipy import stats as st\n",
    "\n",
    "ultra_profit = ultra_profit['total_payment'] \n",
    "smart_profit = smart_profit['total_payment'] \n",
    "\n",
    "alpha = 0.05\n",
    "\n",
    "results = st.ttest_ind(\n",
    "    ultra_profit,\n",
    "    smart_profit) \n",
    "\n",
    "print('p-значение:', results.pvalue)\n",
    "\n",
    "if (results.pvalue < alpha):\n",
    "    print(\"Отвергаем нулевую гипотезу\")\n",
    "else:\n",
    "    print(\"Не получилось отвергнуть нулевую гипотезу\")"
   ]
  },
  {
   "cell_type": "markdown",
   "metadata": {},
   "source": [
    "Исходя из результатов t-теста средняя выручка пользователей тарифов «Ультра» и «Смарт» различается."
   ]
  },
  {
   "cell_type": "markdown",
   "metadata": {},
   "source": [
    "- Cредняя выручка пользователей из Москвы отличается от выручки пользователей из других регионов"
   ]
  },
  {
   "cell_type": "markdown",
   "metadata": {},
   "source": [
    "H0 - Cредняя выручка пользователей из Москвы не отличается от выручки пользователей из других регионов <bR>\n",
    "H1 – Cредняя выручка пользователей из Москвы отличается от выручки пользователей из других регионов"
   ]
  },
  {
   "cell_type": "code",
   "execution_count": null,
   "metadata": {},
   "outputs": [],
   "source": [
    "data['city'].unique()"
   ]
  },
  {
   "cell_type": "code",
   "execution_count": null,
   "metadata": {},
   "outputs": [],
   "source": [
    "moscow = data[data['city'] == 'Москва']\n",
    "other_regions = data.query('not city == \"Москва\"')\n",
    "other_regions['city'].unique()"
   ]
  },
  {
   "cell_type": "code",
   "execution_count": null,
   "metadata": {},
   "outputs": [],
   "source": [
    "moscow_profit = moscow['total_payment']\n",
    "other_regions_profit = other_regions['total_payment'] \n",
    "\n",
    "alpha = 0.05\n",
    "\n",
    "results = st.ttest_ind(\n",
    "    moscow_profit,\n",
    "    other_regions_profit) \n",
    "\n",
    "print('p-значение:', results.pvalue)\n",
    "\n",
    "if (results.pvalue < alpha):\n",
    "    print(\"Отвергаем нулевую гипотезу\")\n",
    "else:\n",
    "    print(\"Не получилось отвергнуть нулевую гипотезу\")"
   ]
  },
  {
   "cell_type": "markdown",
   "metadata": {},
   "source": [
    "Исходя из результатов t-теста средняя выручка пользователей из Москвы отличается от выручки пользователей из других регионов."
   ]
  },
  {
   "cell_type": "markdown",
   "metadata": {},
   "source": [
    "<b>Шаг 5. Напишите общий вывод"
   ]
  },
  {
   "cell_type": "markdown",
   "metadata": {},
   "source": [
    "Ежемесячно прибыль компании растет. Общая прибыль за 2018 год составляет 3 331 185 руб. <bR>\n",
    "Доходы тарифа Смарт в 2018 году составили 1,4 млн. рублей, от тарифа Ультра – 1,9 млн. рублей. Пользователи тарифа Смарт регулярно выходят за лимиты по количеству смс, минут разговора и интернет-трафику и доплачивают за это, в то время как пользователи тарифа Ультра чаще всего вообще не достигают этого лимита. <bR>\n",
    "В целом клиенты обоих тарифов разговаривают по телефону до 500 минут в месяц. Клиенты тарифа Смарт разговаривают немного меньше.</bR>\n",
    "<bR> Проведение теста Стьюдента подтвердила, что средняя выручка пользователей из Москвы и средняя выручка пользователей из других регионов не равны.</bR> \n",
    "<bR> Стоит пересмотреть тарифы – немного расширить границы для тарифа Смарт и сократить лимит для тарифа Ультра.</bR> \n",
    "<bR> С точки зрения прибыли, лучшим тарифом является Ультра."
   ]
  }
 ],
 "metadata": {
  "kernelspec": {
   "display_name": "Python 3",
   "language": "python",
   "name": "python3"
  },
  "language_info": {
   "codemirror_mode": {
    "name": "ipython",
    "version": 3
   },
   "file_extension": ".py",
   "mimetype": "text/x-python",
   "name": "python",
   "nbconvert_exporter": "python",
   "pygments_lexer": "ipython3",
   "version": "3.9.1"
  },
  "toc": {
   "base_numbering": 1,
   "nav_menu": {},
   "number_sections": true,
   "sideBar": true,
   "skip_h1_title": true,
   "title_cell": "Table of Contents",
   "title_sidebar": "Contents",
   "toc_cell": false,
   "toc_position": {},
   "toc_section_display": true,
   "toc_window_display": false
  }
 },
 "nbformat": 4,
 "nbformat_minor": 2
}
